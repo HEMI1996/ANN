{
 "cells": [
  {
   "cell_type": "code",
   "execution_count": 1,
   "metadata": {},
   "outputs": [],
   "source": [
    "# Importing the libraries\n",
    "import numpy as np\n",
    "import matplotlib.pyplot as plt\n",
    "import pandas as pd"
   ]
  },
  {
   "cell_type": "code",
   "execution_count": 2,
   "metadata": {},
   "outputs": [],
   "source": [
    "# Importing the dataset\n",
    "dataset = pd.read_csv('Churn_Modelling.csv')"
   ]
  },
  {
   "cell_type": "code",
   "execution_count": 3,
   "metadata": {},
   "outputs": [
    {
     "data": {
      "text/html": [
       "<div>\n",
       "<style scoped>\n",
       "    .dataframe tbody tr th:only-of-type {\n",
       "        vertical-align: middle;\n",
       "    }\n",
       "\n",
       "    .dataframe tbody tr th {\n",
       "        vertical-align: top;\n",
       "    }\n",
       "\n",
       "    .dataframe thead th {\n",
       "        text-align: right;\n",
       "    }\n",
       "</style>\n",
       "<table border=\"1\" class=\"dataframe\">\n",
       "  <thead>\n",
       "    <tr style=\"text-align: right;\">\n",
       "      <th></th>\n",
       "      <th>RowNumber</th>\n",
       "      <th>CustomerId</th>\n",
       "      <th>Surname</th>\n",
       "      <th>CreditScore</th>\n",
       "      <th>Geography</th>\n",
       "      <th>Gender</th>\n",
       "      <th>Age</th>\n",
       "      <th>Tenure</th>\n",
       "      <th>Balance</th>\n",
       "      <th>NumOfProducts</th>\n",
       "      <th>HasCrCard</th>\n",
       "      <th>IsActiveMember</th>\n",
       "      <th>EstimatedSalary</th>\n",
       "      <th>Exited</th>\n",
       "    </tr>\n",
       "  </thead>\n",
       "  <tbody>\n",
       "    <tr>\n",
       "      <th>0</th>\n",
       "      <td>1</td>\n",
       "      <td>15634602</td>\n",
       "      <td>Hargrave</td>\n",
       "      <td>619</td>\n",
       "      <td>France</td>\n",
       "      <td>Female</td>\n",
       "      <td>42</td>\n",
       "      <td>2</td>\n",
       "      <td>0.00</td>\n",
       "      <td>1</td>\n",
       "      <td>1</td>\n",
       "      <td>1</td>\n",
       "      <td>101348.88</td>\n",
       "      <td>1</td>\n",
       "    </tr>\n",
       "    <tr>\n",
       "      <th>1</th>\n",
       "      <td>2</td>\n",
       "      <td>15647311</td>\n",
       "      <td>Hill</td>\n",
       "      <td>608</td>\n",
       "      <td>Spain</td>\n",
       "      <td>Female</td>\n",
       "      <td>41</td>\n",
       "      <td>1</td>\n",
       "      <td>83807.86</td>\n",
       "      <td>1</td>\n",
       "      <td>0</td>\n",
       "      <td>1</td>\n",
       "      <td>112542.58</td>\n",
       "      <td>0</td>\n",
       "    </tr>\n",
       "    <tr>\n",
       "      <th>2</th>\n",
       "      <td>3</td>\n",
       "      <td>15619304</td>\n",
       "      <td>Onio</td>\n",
       "      <td>502</td>\n",
       "      <td>France</td>\n",
       "      <td>Female</td>\n",
       "      <td>42</td>\n",
       "      <td>8</td>\n",
       "      <td>159660.80</td>\n",
       "      <td>3</td>\n",
       "      <td>1</td>\n",
       "      <td>0</td>\n",
       "      <td>113931.57</td>\n",
       "      <td>1</td>\n",
       "    </tr>\n",
       "    <tr>\n",
       "      <th>3</th>\n",
       "      <td>4</td>\n",
       "      <td>15701354</td>\n",
       "      <td>Boni</td>\n",
       "      <td>699</td>\n",
       "      <td>France</td>\n",
       "      <td>Female</td>\n",
       "      <td>39</td>\n",
       "      <td>1</td>\n",
       "      <td>0.00</td>\n",
       "      <td>2</td>\n",
       "      <td>0</td>\n",
       "      <td>0</td>\n",
       "      <td>93826.63</td>\n",
       "      <td>0</td>\n",
       "    </tr>\n",
       "    <tr>\n",
       "      <th>4</th>\n",
       "      <td>5</td>\n",
       "      <td>15737888</td>\n",
       "      <td>Mitchell</td>\n",
       "      <td>850</td>\n",
       "      <td>Spain</td>\n",
       "      <td>Female</td>\n",
       "      <td>43</td>\n",
       "      <td>2</td>\n",
       "      <td>125510.82</td>\n",
       "      <td>1</td>\n",
       "      <td>1</td>\n",
       "      <td>1</td>\n",
       "      <td>79084.10</td>\n",
       "      <td>0</td>\n",
       "    </tr>\n",
       "  </tbody>\n",
       "</table>\n",
       "</div>"
      ],
      "text/plain": [
       "   RowNumber  CustomerId   Surname  CreditScore Geography  Gender  Age  \\\n",
       "0          1    15634602  Hargrave          619    France  Female   42   \n",
       "1          2    15647311      Hill          608     Spain  Female   41   \n",
       "2          3    15619304      Onio          502    France  Female   42   \n",
       "3          4    15701354      Boni          699    France  Female   39   \n",
       "4          5    15737888  Mitchell          850     Spain  Female   43   \n",
       "\n",
       "   Tenure    Balance  NumOfProducts  HasCrCard  IsActiveMember  \\\n",
       "0       2       0.00              1          1               1   \n",
       "1       1   83807.86              1          0               1   \n",
       "2       8  159660.80              3          1               0   \n",
       "3       1       0.00              2          0               0   \n",
       "4       2  125510.82              1          1               1   \n",
       "\n",
       "   EstimatedSalary  Exited  \n",
       "0        101348.88       1  \n",
       "1        112542.58       0  \n",
       "2        113931.57       1  \n",
       "3         93826.63       0  \n",
       "4         79084.10       0  "
      ]
     },
     "execution_count": 3,
     "metadata": {},
     "output_type": "execute_result"
    }
   ],
   "source": [
    "dataset.head()"
   ]
  },
  {
   "cell_type": "code",
   "execution_count": 4,
   "metadata": {},
   "outputs": [],
   "source": [
    "X = dataset.iloc[:, 3:13].values\n",
    "y = dataset.iloc[:, 13].values"
   ]
  },
  {
   "cell_type": "code",
   "execution_count": 5,
   "metadata": {},
   "outputs": [
    {
     "ename": "AttributeError",
     "evalue": "'numpy.ndarray' object has no attribute 'head'",
     "output_type": "error",
     "traceback": [
      "\u001b[1;31m---------------------------------------------------------------------------\u001b[0m",
      "\u001b[1;31mAttributeError\u001b[0m                            Traceback (most recent call last)",
      "\u001b[1;32m<ipython-input-5-ae5cd47bda90>\u001b[0m in \u001b[0;36m<module>\u001b[1;34m()\u001b[0m\n\u001b[1;32m----> 1\u001b[1;33m \u001b[0mX\u001b[0m\u001b[1;33m.\u001b[0m\u001b[0mhead\u001b[0m\u001b[1;33m(\u001b[0m\u001b[1;33m)\u001b[0m\u001b[1;33m\u001b[0m\u001b[0m\n\u001b[0m",
      "\u001b[1;31mAttributeError\u001b[0m: 'numpy.ndarray' object has no attribute 'head'"
     ]
    }
   ],
   "source": [
    "X.head()"
   ]
  },
  {
   "cell_type": "code",
   "execution_count": 7,
   "metadata": {},
   "outputs": [
    {
     "data": {
      "text/plain": [
       "array([[619, 'France', 'Female', ..., 1, 1, 101348.88],\n",
       "       [608, 'Spain', 'Female', ..., 0, 1, 112542.58],\n",
       "       [502, 'France', 'Female', ..., 1, 0, 113931.57],\n",
       "       ...,\n",
       "       [709, 'France', 'Female', ..., 0, 1, 42085.58],\n",
       "       [772, 'Germany', 'Male', ..., 1, 0, 92888.52],\n",
       "       [792, 'France', 'Female', ..., 1, 0, 38190.78]], dtype=object)"
      ]
     },
     "execution_count": 7,
     "metadata": {},
     "output_type": "execute_result"
    }
   ],
   "source": [
    "X"
   ]
  },
  {
   "cell_type": "code",
   "execution_count": 8,
   "metadata": {},
   "outputs": [],
   "source": [
    "# Categorical data\n",
    "from sklearn.preprocessing import LabelEncoder, OneHotEncoder"
   ]
  },
  {
   "cell_type": "code",
   "execution_count": 9,
   "metadata": {},
   "outputs": [],
   "source": [
    "labelencoder_X_1 = LabelEncoder()\n",
    "X[:, 1] = labelencoder_X_1.fit_transform(X[:, 1])\n",
    "labelencoder_X_2 = LabelEncoder()\n",
    "X[:, 2] = labelencoder_X_2.fit_transform(X[:, 2])"
   ]
  },
  {
   "cell_type": "code",
   "execution_count": 10,
   "metadata": {},
   "outputs": [
    {
     "data": {
      "text/plain": [
       "array([[619, 0, 0, ..., 1, 1, 101348.88],\n",
       "       [608, 2, 0, ..., 0, 1, 112542.58],\n",
       "       [502, 0, 0, ..., 1, 0, 113931.57],\n",
       "       ...,\n",
       "       [709, 0, 0, ..., 0, 1, 42085.58],\n",
       "       [772, 1, 1, ..., 1, 0, 92888.52],\n",
       "       [792, 0, 0, ..., 1, 0, 38190.78]], dtype=object)"
      ]
     },
     "execution_count": 10,
     "metadata": {},
     "output_type": "execute_result"
    }
   ],
   "source": [
    "X"
   ]
  },
  {
   "cell_type": "code",
   "execution_count": 11,
   "metadata": {},
   "outputs": [],
   "source": [
    "onehotencoder = OneHotEncoder(categorical_features = [1])\n",
    "X = onehotencoder.fit_transform(X).toarray()"
   ]
  },
  {
   "cell_type": "code",
   "execution_count": 12,
   "metadata": {},
   "outputs": [
    {
     "data": {
      "text/plain": [
       "array([[1.0000000e+00, 0.0000000e+00, 0.0000000e+00, ..., 1.0000000e+00,\n",
       "        1.0000000e+00, 1.0134888e+05],\n",
       "       [0.0000000e+00, 0.0000000e+00, 1.0000000e+00, ..., 0.0000000e+00,\n",
       "        1.0000000e+00, 1.1254258e+05],\n",
       "       [1.0000000e+00, 0.0000000e+00, 0.0000000e+00, ..., 1.0000000e+00,\n",
       "        0.0000000e+00, 1.1393157e+05],\n",
       "       ...,\n",
       "       [1.0000000e+00, 0.0000000e+00, 0.0000000e+00, ..., 0.0000000e+00,\n",
       "        1.0000000e+00, 4.2085580e+04],\n",
       "       [0.0000000e+00, 1.0000000e+00, 0.0000000e+00, ..., 1.0000000e+00,\n",
       "        0.0000000e+00, 9.2888520e+04],\n",
       "       [1.0000000e+00, 0.0000000e+00, 0.0000000e+00, ..., 1.0000000e+00,\n",
       "        0.0000000e+00, 3.8190780e+04]])"
      ]
     },
     "execution_count": 12,
     "metadata": {},
     "output_type": "execute_result"
    }
   ],
   "source": [
    "X"
   ]
  },
  {
   "cell_type": "code",
   "execution_count": 13,
   "metadata": {},
   "outputs": [],
   "source": [
    "# Avoding Dummy variable trap\n",
    "X = X[:, 1:]"
   ]
  },
  {
   "cell_type": "code",
   "execution_count": 14,
   "metadata": {},
   "outputs": [
    {
     "data": {
      "text/plain": [
       "array([[0.0000000e+00, 0.0000000e+00, 6.1900000e+02, ..., 1.0000000e+00,\n",
       "        1.0000000e+00, 1.0134888e+05],\n",
       "       [0.0000000e+00, 1.0000000e+00, 6.0800000e+02, ..., 0.0000000e+00,\n",
       "        1.0000000e+00, 1.1254258e+05],\n",
       "       [0.0000000e+00, 0.0000000e+00, 5.0200000e+02, ..., 1.0000000e+00,\n",
       "        0.0000000e+00, 1.1393157e+05],\n",
       "       ...,\n",
       "       [0.0000000e+00, 0.0000000e+00, 7.0900000e+02, ..., 0.0000000e+00,\n",
       "        1.0000000e+00, 4.2085580e+04],\n",
       "       [1.0000000e+00, 0.0000000e+00, 7.7200000e+02, ..., 1.0000000e+00,\n",
       "        0.0000000e+00, 9.2888520e+04],\n",
       "       [0.0000000e+00, 0.0000000e+00, 7.9200000e+02, ..., 1.0000000e+00,\n",
       "        0.0000000e+00, 3.8190780e+04]])"
      ]
     },
     "execution_count": 14,
     "metadata": {},
     "output_type": "execute_result"
    }
   ],
   "source": [
    "X"
   ]
  },
  {
   "cell_type": "code",
   "execution_count": 15,
   "metadata": {},
   "outputs": [],
   "source": [
    "# Splitting the dataset into training set and test set\n",
    "from sklearn.model_selection import train_test_split\n",
    "X_train, X_test, y_train, y_test = train_test_split(X, y, test_size=0.2, random_state=0)"
   ]
  },
  {
   "cell_type": "code",
   "execution_count": 16,
   "metadata": {},
   "outputs": [],
   "source": [
    "# Feature Scaling\n",
    "from sklearn.preprocessing import StandardScaler"
   ]
  },
  {
   "cell_type": "code",
   "execution_count": 17,
   "metadata": {},
   "outputs": [
    {
     "ename": "AttributeError",
     "evalue": "'StandardScaler' object has no attribute 'fit_trasform'",
     "output_type": "error",
     "traceback": [
      "\u001b[1;31m---------------------------------------------------------------------------\u001b[0m",
      "\u001b[1;31mAttributeError\u001b[0m                            Traceback (most recent call last)",
      "\u001b[1;32m<ipython-input-17-5da24a2a72ec>\u001b[0m in \u001b[0;36m<module>\u001b[1;34m()\u001b[0m\n\u001b[0;32m      1\u001b[0m \u001b[0msc\u001b[0m \u001b[1;33m=\u001b[0m \u001b[0mStandardScaler\u001b[0m\u001b[1;33m(\u001b[0m\u001b[1;33m)\u001b[0m\u001b[1;33m\u001b[0m\u001b[0m\n\u001b[1;32m----> 2\u001b[1;33m \u001b[0mX_train\u001b[0m \u001b[1;33m=\u001b[0m \u001b[0msc\u001b[0m\u001b[1;33m.\u001b[0m\u001b[0mfit_trasform\u001b[0m\u001b[1;33m(\u001b[0m\u001b[0mX_train\u001b[0m\u001b[1;33m)\u001b[0m\u001b[1;33m\u001b[0m\u001b[0m\n\u001b[0m\u001b[0;32m      3\u001b[0m \u001b[0mX_test\u001b[0m \u001b[1;33m=\u001b[0m \u001b[0msc\u001b[0m\u001b[1;33m.\u001b[0m\u001b[0mtransform\u001b[0m\u001b[1;33m(\u001b[0m\u001b[0mX_test\u001b[0m\u001b[1;33m)\u001b[0m\u001b[1;33m\u001b[0m\u001b[0m\n",
      "\u001b[1;31mAttributeError\u001b[0m: 'StandardScaler' object has no attribute 'fit_trasform'"
     ]
    }
   ],
   "source": [
    "sc = StandardScaler()\n",
    "X_train = sc.fit_trasform(X_train)\n",
    "X_test = sc.transform(X_test)"
   ]
  },
  {
   "cell_type": "code",
   "execution_count": 18,
   "metadata": {},
   "outputs": [],
   "source": [
    "sc = StandardScaler()\n",
    "X_train = sc.fit_transform(X_train)\n",
    "X_test = sc.transform(X_test)"
   ]
  },
  {
   "cell_type": "code",
   "execution_count": 19,
   "metadata": {},
   "outputs": [
    {
     "data": {
      "text/plain": [
       "array([[ 1.75486502, -0.57369368, -0.55204276, ...,  0.64259497,\n",
       "         0.9687384 ,  1.61085707],\n",
       "       [-0.5698444 , -0.57369368, -1.31490297, ...,  0.64259497,\n",
       "        -1.03227043,  0.49587037],\n",
       "       [-0.5698444 ,  1.74309049,  0.57162971, ...,  0.64259497,\n",
       "         0.9687384 , -0.42478674],\n",
       "       ...,\n",
       "       [-0.5698444 ,  1.74309049, -0.74791227, ...,  0.64259497,\n",
       "        -1.03227043,  0.71888467],\n",
       "       [ 1.75486502, -0.57369368, -0.00566991, ...,  0.64259497,\n",
       "         0.9687384 , -1.54507805],\n",
       "       [ 1.75486502, -0.57369368, -0.79945688, ...,  0.64259497,\n",
       "        -1.03227043,  1.61255917]])"
      ]
     },
     "execution_count": 19,
     "metadata": {},
     "output_type": "execute_result"
    }
   ],
   "source": [
    "X_test"
   ]
  },
  {
   "cell_type": "code",
   "execution_count": null,
   "metadata": {},
   "outputs": [],
   "source": []
  },
  {
   "cell_type": "code",
   "execution_count": 20,
   "metadata": {},
   "outputs": [
    {
     "name": "stderr",
     "output_type": "stream",
     "text": [
      "C:\\Users\\Hemanth\\Anaconda3\\lib\\site-packages\\h5py\\__init__.py:36: FutureWarning: Conversion of the second argument of issubdtype from `float` to `np.floating` is deprecated. In future, it will be treated as `np.float64 == np.dtype(float).type`.\n",
      "  from ._conv import register_converters as _register_converters\n",
      "Using TensorFlow backend.\n"
     ]
    }
   ],
   "source": [
    "# Importing the Keras libraries and packages\n",
    "import tensorflow\n",
    "import keras"
   ]
  },
  {
   "cell_type": "code",
   "execution_count": 21,
   "metadata": {},
   "outputs": [],
   "source": [
    "from keras.models import Sequential\n",
    "from keras.layers import Dense"
   ]
  },
  {
   "cell_type": "code",
   "execution_count": 22,
   "metadata": {},
   "outputs": [],
   "source": [
    "# Initialising the ANN\n",
    "classifier = Sequential()"
   ]
  },
  {
   "cell_type": "code",
   "execution_count": 23,
   "metadata": {},
   "outputs": [
    {
     "name": "stderr",
     "output_type": "stream",
     "text": [
      "C:\\Users\\Hemanth\\Anaconda3\\lib\\site-packages\\ipykernel_launcher.py:2: UserWarning: Update your `Dense` call to the Keras 2 API: `Dense(ouput_dim=6, activation=\"relu\", input_dim=11, kernel_initializer=\"uniform\")`\n",
      "  \n"
     ]
    },
    {
     "ename": "TypeError",
     "evalue": "__init__() missing 1 required positional argument: 'units'",
     "output_type": "error",
     "traceback": [
      "\u001b[1;31m---------------------------------------------------------------------------\u001b[0m",
      "\u001b[1;31mTypeError\u001b[0m                                 Traceback (most recent call last)",
      "\u001b[1;32m<ipython-input-23-858924441c37>\u001b[0m in \u001b[0;36m<module>\u001b[1;34m()\u001b[0m\n\u001b[0;32m      1\u001b[0m \u001b[1;31m# Adding the Input layer and first hidden layer\u001b[0m\u001b[1;33m\u001b[0m\u001b[1;33m\u001b[0m\u001b[0m\n\u001b[1;32m----> 2\u001b[1;33m \u001b[0mclassifier\u001b[0m\u001b[1;33m.\u001b[0m\u001b[0madd\u001b[0m\u001b[1;33m(\u001b[0m\u001b[0mDense\u001b[0m\u001b[1;33m(\u001b[0m\u001b[0mouput_dim\u001b[0m\u001b[1;33m=\u001b[0m\u001b[1;36m6\u001b[0m\u001b[1;33m,\u001b[0m \u001b[0minit\u001b[0m\u001b[1;33m=\u001b[0m\u001b[1;34m'uniform'\u001b[0m\u001b[1;33m,\u001b[0m \u001b[0mactivation\u001b[0m\u001b[1;33m=\u001b[0m\u001b[1;34m'relu'\u001b[0m\u001b[1;33m,\u001b[0m \u001b[0minput_dim\u001b[0m\u001b[1;33m=\u001b[0m\u001b[1;36m11\u001b[0m\u001b[1;33m)\u001b[0m\u001b[1;33m)\u001b[0m\u001b[1;33m\u001b[0m\u001b[0m\n\u001b[0m",
      "\u001b[1;32m~\\Anaconda3\\lib\\site-packages\\keras\\legacy\\interfaces.py\u001b[0m in \u001b[0;36mwrapper\u001b[1;34m(*args, **kwargs)\u001b[0m\n\u001b[0;32m     89\u001b[0m                 warnings.warn('Update your `' + object_name +\n\u001b[0;32m     90\u001b[0m                               '` call to the Keras 2 API: ' + signature, stacklevel=2)\n\u001b[1;32m---> 91\u001b[1;33m             \u001b[1;32mreturn\u001b[0m \u001b[0mfunc\u001b[0m\u001b[1;33m(\u001b[0m\u001b[1;33m*\u001b[0m\u001b[0margs\u001b[0m\u001b[1;33m,\u001b[0m \u001b[1;33m**\u001b[0m\u001b[0mkwargs\u001b[0m\u001b[1;33m)\u001b[0m\u001b[1;33m\u001b[0m\u001b[0m\n\u001b[0m\u001b[0;32m     92\u001b[0m         \u001b[0mwrapper\u001b[0m\u001b[1;33m.\u001b[0m\u001b[0m_original_function\u001b[0m \u001b[1;33m=\u001b[0m \u001b[0mfunc\u001b[0m\u001b[1;33m\u001b[0m\u001b[0m\n\u001b[0;32m     93\u001b[0m         \u001b[1;32mreturn\u001b[0m \u001b[0mwrapper\u001b[0m\u001b[1;33m\u001b[0m\u001b[0m\n",
      "\u001b[1;31mTypeError\u001b[0m: __init__() missing 1 required positional argument: 'units'"
     ]
    }
   ],
   "source": [
    "# Adding the Input layer and first hidden layer\n",
    "classifier.add(Dense(ouput_dim=6, init='uniform', activation='relu', input_dim=11))"
   ]
  },
  {
   "cell_type": "code",
   "execution_count": 24,
   "metadata": {},
   "outputs": [
    {
     "name": "stderr",
     "output_type": "stream",
     "text": [
      "C:\\Users\\Hemanth\\Anaconda3\\lib\\site-packages\\ipykernel_launcher.py:2: UserWarning: Update your `Dense` call to the Keras 2 API: `Dense(activation=\"relu\", input_dim=11, units=6, kernel_initializer=\"uniform\")`\n",
      "  \n"
     ]
    }
   ],
   "source": [
    "# Adding the Input layer and first hidden layer\n",
    "classifier.add(Dense(output_dim=6, init='uniform', activation='relu', input_dim=11))"
   ]
  },
  {
   "cell_type": "code",
   "execution_count": 25,
   "metadata": {},
   "outputs": [
    {
     "name": "stderr",
     "output_type": "stream",
     "text": [
      "C:\\Users\\Hemanth\\Anaconda3\\lib\\site-packages\\ipykernel_launcher.py:2: UserWarning: Update your `Dense` call to the Keras 2 API: `Dense(activation=\"relu\", units=6, kernel_initializer=\"uniform\")`\n",
      "  \n"
     ]
    }
   ],
   "source": [
    "# Adding the second hidden layer\n",
    "classifier.add(Dense(output_dim=6, init='uniform', activation='relu'))"
   ]
  },
  {
   "cell_type": "code",
   "execution_count": 26,
   "metadata": {},
   "outputs": [
    {
     "name": "stderr",
     "output_type": "stream",
     "text": [
      "C:\\Users\\Hemanth\\Anaconda3\\lib\\site-packages\\ipykernel_launcher.py:2: UserWarning: Update your `Dense` call to the Keras 2 API: `Dense(activation=\"sigmoid\", units=1, kernel_initializer=\"uniform\")`\n",
      "  \n"
     ]
    }
   ],
   "source": [
    "# Adding the Output layer\n",
    "classifier.add(Dense(output_dim=1, init='uniform', activation='sigmoid'))"
   ]
  },
  {
   "cell_type": "code",
   "execution_count": 27,
   "metadata": {},
   "outputs": [],
   "source": [
    "# Compiling the ANN\n",
    "classifier.compile(optimizer='adam', loss='binary_crossentropy', metrics=['accuracy'])"
   ]
  },
  {
   "cell_type": "code",
   "execution_count": 28,
   "metadata": {},
   "outputs": [
    {
     "name": "stderr",
     "output_type": "stream",
     "text": [
      "C:\\Users\\Hemanth\\Anaconda3\\lib\\site-packages\\keras\\models.py:942: UserWarning: The `nb_epoch` argument in `fit` has been renamed `epochs`.\n",
      "  warnings.warn('The `nb_epoch` argument in `fit` '\n"
     ]
    },
    {
     "name": "stdout",
     "output_type": "stream",
     "text": [
      "Epoch 1/100\n",
      "8000/8000 [==============================] - 3s 313us/step - loss: 0.4921 - acc: 0.7954\n",
      "Epoch 2/100\n",
      "8000/8000 [==============================] - 1s 161us/step - loss: 0.4290 - acc: 0.7960\n",
      "Epoch 3/100\n",
      "8000/8000 [==============================] - 1s 164us/step - loss: 0.4247 - acc: 0.7960\n",
      "Epoch 4/100\n",
      "8000/8000 [==============================] - 1s 178us/step - loss: 0.4210 - acc: 0.8099\n",
      "Epoch 5/100\n",
      "8000/8000 [==============================] - 2s 192us/step - loss: 0.4185 - acc: 0.8212\n",
      "Epoch 6/100\n",
      "8000/8000 [==============================] - 1s 167us/step - loss: 0.4159 - acc: 0.8274\n",
      "Epoch 7/100\n",
      "8000/8000 [==============================] - 1s 168us/step - loss: 0.4144 - acc: 0.8295\n",
      "Epoch 8/100\n",
      "8000/8000 [==============================] - 1s 167us/step - loss: 0.4130 - acc: 0.8305\n",
      "Epoch 9/100\n",
      "8000/8000 [==============================] - 1s 169us/step - loss: 0.4118 - acc: 0.8335\n",
      "Epoch 10/100\n",
      "8000/8000 [==============================] - 1s 174us/step - loss: 0.4106 - acc: 0.8335\n",
      "Epoch 11/100\n",
      "8000/8000 [==============================] - 1s 175us/step - loss: 0.4099 - acc: 0.8347\n",
      "Epoch 12/100\n",
      "8000/8000 [==============================] - 1s 176us/step - loss: 0.4093 - acc: 0.8347\n",
      "Epoch 13/100\n",
      "8000/8000 [==============================] - 1s 169us/step - loss: 0.4083 - acc: 0.8352\n",
      "Epoch 14/100\n",
      "8000/8000 [==============================] - 1s 166us/step - loss: 0.4073 - acc: 0.8344\n",
      "Epoch 15/100\n",
      "8000/8000 [==============================] - 2s 195us/step - loss: 0.4054 - acc: 0.8339\n",
      "Epoch 16/100\n",
      "8000/8000 [==============================] - 2s 190us/step - loss: 0.4041 - acc: 0.8347\n",
      "Epoch 17/100\n",
      "8000/8000 [==============================] - 1s 182us/step - loss: 0.4028 - acc: 0.8361\n",
      "Epoch 18/100\n",
      "8000/8000 [==============================] - 1s 180us/step - loss: 0.4023 - acc: 0.8360\n",
      "Epoch 19/100\n",
      "8000/8000 [==============================] - 1s 170us/step - loss: 0.4008 - acc: 0.8350\n",
      "Epoch 20/100\n",
      "8000/8000 [==============================] - 1s 170us/step - loss: 0.4003 - acc: 0.8349\n",
      "Epoch 21/100\n",
      "8000/8000 [==============================] - 1s 174us/step - loss: 0.3995 - acc: 0.8346\n",
      "Epoch 22/100\n",
      "8000/8000 [==============================] - 1s 172us/step - loss: 0.3990 - acc: 0.8352\n",
      "Epoch 23/100\n",
      "8000/8000 [==============================] - 1s 176us/step - loss: 0.3986 - acc: 0.8364\n",
      "Epoch 24/100\n",
      "8000/8000 [==============================] - 1s 173us/step - loss: 0.3978 - acc: 0.8345\n",
      "Epoch 25/100\n",
      "8000/8000 [==============================] - 1s 174us/step - loss: 0.3976 - acc: 0.8352\n",
      "Epoch 26/100\n",
      "8000/8000 [==============================] - 1s 171us/step - loss: 0.3972 - acc: 0.8352\n",
      "Epoch 27/100\n",
      "8000/8000 [==============================] - 1s 168us/step - loss: 0.3968 - acc: 0.8369\n",
      "Epoch 28/100\n",
      "8000/8000 [==============================] - 1s 169us/step - loss: 0.3965 - acc: 0.8367\n",
      "Epoch 29/100\n",
      "8000/8000 [==============================] - 1s 174us/step - loss: 0.3960 - acc: 0.8351\n",
      "Epoch 30/100\n",
      "8000/8000 [==============================] - 1s 176us/step - loss: 0.3960 - acc: 0.8347\n",
      "Epoch 31/100\n",
      "8000/8000 [==============================] - 1s 184us/step - loss: 0.3957 - acc: 0.8355\n",
      "Epoch 32/100\n",
      "8000/8000 [==============================] - 1s 177us/step - loss: 0.3958 - acc: 0.8351\n",
      "Epoch 33/100\n",
      "8000/8000 [==============================] - 2s 225us/step - loss: 0.3953 - acc: 0.8362\n",
      "Epoch 34/100\n",
      "8000/8000 [==============================] - 1s 183us/step - loss: 0.3954 - acc: 0.8376\n",
      "Epoch 35/100\n",
      "8000/8000 [==============================] - 1s 171us/step - loss: 0.3955 - acc: 0.8351\n",
      "Epoch 36/100\n",
      "8000/8000 [==============================] - 1s 184us/step - loss: 0.3950 - acc: 0.8374\n",
      "Epoch 37/100\n",
      "8000/8000 [==============================] - 2s 201us/step - loss: 0.3950 - acc: 0.8355\n",
      "Epoch 38/100\n",
      "8000/8000 [==============================] - 1s 154us/step - loss: 0.3948 - acc: 0.8357\n",
      "Epoch 39/100\n",
      "8000/8000 [==============================] - 1s 160us/step - loss: 0.3948 - acc: 0.8357\n",
      "Epoch 40/100\n",
      "8000/8000 [==============================] - 1s 161us/step - loss: 0.3949 - acc: 0.8369\n",
      "Epoch 41/100\n",
      "8000/8000 [==============================] - 1s 182us/step - loss: 0.3946 - acc: 0.8362\n",
      "Epoch 42/100\n",
      "8000/8000 [==============================] - 1s 154us/step - loss: 0.3950 - acc: 0.8356\n",
      "Epoch 43/100\n",
      "8000/8000 [==============================] - 1s 153us/step - loss: 0.3942 - acc: 0.8372\n",
      "Epoch 44/100\n",
      "8000/8000 [==============================] - 1s 178us/step - loss: 0.3947 - acc: 0.8359\n",
      "Epoch 45/100\n",
      "8000/8000 [==============================] - 1s 155us/step - loss: 0.3948 - acc: 0.8355\n",
      "Epoch 46/100\n",
      "8000/8000 [==============================] - 1s 155us/step - loss: 0.3942 - acc: 0.8386\n",
      "Epoch 47/100\n",
      "8000/8000 [==============================] - 1s 174us/step - loss: 0.3949 - acc: 0.8376\n",
      "Epoch 48/100\n",
      "8000/8000 [==============================] - 1s 149us/step - loss: 0.3940 - acc: 0.8372\n",
      "Epoch 49/100\n",
      "8000/8000 [==============================] - 1s 148us/step - loss: 0.3938 - acc: 0.8361\n",
      "Epoch 50/100\n",
      "8000/8000 [==============================] - 1s 149us/step - loss: 0.3934 - acc: 0.8377\n",
      "Epoch 51/100\n",
      "8000/8000 [==============================] - 1s 160us/step - loss: 0.3936 - acc: 0.8364\n",
      "Epoch 52/100\n",
      "8000/8000 [==============================] - 1s 153us/step - loss: 0.3930 - acc: 0.8362\n",
      "Epoch 53/100\n",
      "8000/8000 [==============================] - 1s 154us/step - loss: 0.3923 - acc: 0.8375\n",
      "Epoch 54/100\n",
      "8000/8000 [==============================] - 1s 173us/step - loss: 0.3911 - acc: 0.8372\n",
      "Epoch 55/100\n",
      "8000/8000 [==============================] - 2s 212us/step - loss: 0.3902 - acc: 0.8397\n",
      "Epoch 56/100\n",
      "8000/8000 [==============================] - 1s 169us/step - loss: 0.3881 - acc: 0.8385\n",
      "Epoch 57/100\n",
      "8000/8000 [==============================] - 2s 213us/step - loss: 0.3848 - acc: 0.8409\n",
      "Epoch 58/100\n",
      "8000/8000 [==============================] - 1s 173us/step - loss: 0.3818 - acc: 0.8391\n",
      "Epoch 59/100\n",
      "8000/8000 [==============================] - 1s 150us/step - loss: 0.3793 - acc: 0.8409\n",
      "Epoch 60/100\n",
      "8000/8000 [==============================] - 1s 152us/step - loss: 0.3766 - acc: 0.8410\n",
      "Epoch 61/100\n",
      "8000/8000 [==============================] - 1s 156us/step - loss: 0.3738 - acc: 0.8425\n",
      "Epoch 62/100\n",
      "8000/8000 [==============================] - 1s 153us/step - loss: 0.3713 - acc: 0.8435\n",
      "Epoch 63/100\n",
      "8000/8000 [==============================] - 1s 154us/step - loss: 0.3663 - acc: 0.8475\n",
      "Epoch 64/100\n",
      "8000/8000 [==============================] - 1s 156us/step - loss: 0.3622 - acc: 0.8477\n",
      "Epoch 65/100\n",
      "8000/8000 [==============================] - 1s 154us/step - loss: 0.3578 - acc: 0.8546\n",
      "Epoch 66/100\n",
      "8000/8000 [==============================] - 1s 183us/step - loss: 0.3553 - acc: 0.8554\n",
      "Epoch 67/100\n",
      "8000/8000 [==============================] - 1s 155us/step - loss: 0.3522 - acc: 0.8575\n",
      "Epoch 68/100\n",
      "8000/8000 [==============================] - 1s 155us/step - loss: 0.3506 - acc: 0.8601 0s - loss: 0.3505 - acc: 0.860\n",
      "Epoch 69/100\n",
      "8000/8000 [==============================] - 1s 156us/step - loss: 0.3497 - acc: 0.8601\n",
      "Epoch 70/100\n",
      "8000/8000 [==============================] - 1s 154us/step - loss: 0.3493 - acc: 0.8595\n",
      "Epoch 71/100\n",
      "8000/8000 [==============================] - 1s 169us/step - loss: 0.3489 - acc: 0.8584\n",
      "Epoch 72/100\n",
      "8000/8000 [==============================] - 1s 178us/step - loss: 0.3483 - acc: 0.8621\n",
      "Epoch 73/100\n",
      "8000/8000 [==============================] - 1s 176us/step - loss: 0.3479 - acc: 0.8609\n",
      "Epoch 74/100\n",
      "8000/8000 [==============================] - 1s 163us/step - loss: 0.3473 - acc: 0.8612\n",
      "Epoch 75/100\n",
      "8000/8000 [==============================] - 1s 184us/step - loss: 0.3472 - acc: 0.8607\n",
      "Epoch 76/100\n",
      "8000/8000 [==============================] - 1s 177us/step - loss: 0.3464 - acc: 0.8625\n",
      "Epoch 77/100\n",
      "8000/8000 [==============================] - 2s 196us/step - loss: 0.3472 - acc: 0.8617\n",
      "Epoch 78/100\n",
      "8000/8000 [==============================] - 2s 232us/step - loss: 0.3466 - acc: 0.8605\n",
      "Epoch 79/100\n",
      "8000/8000 [==============================] - 2s 261us/step - loss: 0.3453 - acc: 0.8605\n",
      "Epoch 80/100\n",
      "8000/8000 [==============================] - 1s 165us/step - loss: 0.3459 - acc: 0.8620\n",
      "Epoch 81/100\n",
      "8000/8000 [==============================] - 1s 174us/step - loss: 0.3452 - acc: 0.8605\n",
      "Epoch 82/100\n",
      "8000/8000 [==============================] - 1s 155us/step - loss: 0.3461 - acc: 0.8627\n",
      "Epoch 83/100\n",
      "8000/8000 [==============================] - 1s 144us/step - loss: 0.3458 - acc: 0.8605\n",
      "Epoch 84/100\n",
      "8000/8000 [==============================] - 1s 139us/step - loss: 0.3449 - acc: 0.8601\n",
      "Epoch 85/100\n",
      "8000/8000 [==============================] - 1s 141us/step - loss: 0.3455 - acc: 0.8610\n",
      "Epoch 86/100\n",
      "8000/8000 [==============================] - 1s 152us/step - loss: 0.3450 - acc: 0.8604\n",
      "Epoch 87/100\n",
      "8000/8000 [==============================] - 1s 175us/step - loss: 0.3442 - acc: 0.8612\n",
      "Epoch 88/100\n",
      "8000/8000 [==============================] - 1s 146us/step - loss: 0.3451 - acc: 0.8602\n",
      "Epoch 89/100\n",
      "8000/8000 [==============================] - 1s 143us/step - loss: 0.3444 - acc: 0.8611\n",
      "Epoch 90/100\n",
      "8000/8000 [==============================] - 1s 148us/step - loss: 0.3448 - acc: 0.8614\n",
      "Epoch 91/100\n",
      "8000/8000 [==============================] - 1s 143us/step - loss: 0.3444 - acc: 0.8597\n",
      "Epoch 92/100\n",
      "8000/8000 [==============================] - 1s 152us/step - loss: 0.3444 - acc: 0.8611\n",
      "Epoch 93/100\n",
      "8000/8000 [==============================] - 1s 173us/step - loss: 0.3446 - acc: 0.8607\n",
      "Epoch 94/100\n",
      "8000/8000 [==============================] - 1s 152us/step - loss: 0.3447 - acc: 0.8617\n",
      "Epoch 95/100\n",
      "8000/8000 [==============================] - 1s 155us/step - loss: 0.3439 - acc: 0.8636\n",
      "Epoch 96/100\n",
      "8000/8000 [==============================] - 1s 147us/step - loss: 0.3442 - acc: 0.8611\n",
      "Epoch 97/100\n",
      "8000/8000 [==============================] - 1s 153us/step - loss: 0.3435 - acc: 0.8632\n",
      "Epoch 98/100\n",
      "8000/8000 [==============================] - 1s 165us/step - loss: 0.3438 - acc: 0.8606\n",
      "Epoch 99/100\n",
      "8000/8000 [==============================] - 1s 150us/step - loss: 0.3435 - acc: 0.8635\n",
      "Epoch 100/100\n",
      "8000/8000 [==============================] - 1s 156us/step - loss: 0.3437 - acc: 0.8599\n"
     ]
    },
    {
     "data": {
      "text/plain": [
       "<keras.callbacks.History at 0x1d617f13780>"
      ]
     },
     "execution_count": 28,
     "metadata": {},
     "output_type": "execute_result"
    }
   ],
   "source": [
    "# Fitting the ANN to the training set\n",
    "classifier.fit(X_train, y_train, batch_size=10, nb_epoch=100)"
   ]
  },
  {
   "cell_type": "code",
   "execution_count": 33,
   "metadata": {},
   "outputs": [],
   "source": [
    "# Predicting the test set results\n",
    "y_pred = classifier.predict(X_test)"
   ]
  },
  {
   "cell_type": "code",
   "execution_count": 34,
   "metadata": {},
   "outputs": [
    {
     "data": {
      "text/plain": [
       "array([[0.34429324],\n",
       "       [0.48009682],\n",
       "       [0.22397026],\n",
       "       ...,\n",
       "       [0.21252675],\n",
       "       [0.20109047],\n",
       "       [0.26715517]], dtype=float32)"
      ]
     },
     "execution_count": 34,
     "metadata": {},
     "output_type": "execute_result"
    }
   ],
   "source": [
    "y_pred"
   ]
  },
  {
   "cell_type": "code",
   "execution_count": 35,
   "metadata": {},
   "outputs": [],
   "source": [
    "y_pred = (y_pred > 0.5)"
   ]
  },
  {
   "cell_type": "code",
   "execution_count": 36,
   "metadata": {},
   "outputs": [
    {
     "data": {
      "text/plain": [
       "array([[False],\n",
       "       [False],\n",
       "       [False],\n",
       "       ...,\n",
       "       [False],\n",
       "       [False],\n",
       "       [False]])"
      ]
     },
     "execution_count": 36,
     "metadata": {},
     "output_type": "execute_result"
    }
   ],
   "source": [
    "y_pred"
   ]
  },
  {
   "cell_type": "code",
   "execution_count": 37,
   "metadata": {},
   "outputs": [],
   "source": [
    "# Making the Confusion Matrix\n",
    "from sklearn.metrics import confusion_matrix\n",
    "cm = confusion_matrix(y_test, y_pred)"
   ]
  },
  {
   "cell_type": "code",
   "execution_count": 38,
   "metadata": {},
   "outputs": [
    {
     "data": {
      "text/plain": [
       "array([[1481,  114],\n",
       "       [ 173,  232]], dtype=int64)"
      ]
     },
     "execution_count": 38,
     "metadata": {},
     "output_type": "execute_result"
    }
   ],
   "source": [
    "cm"
   ]
  },
  {
   "cell_type": "code",
   "execution_count": 39,
   "metadata": {},
   "outputs": [
    {
     "data": {
      "text/plain": [
       "0.8565"
      ]
     },
     "execution_count": 39,
     "metadata": {},
     "output_type": "execute_result"
    }
   ],
   "source": [
    "# Test set accuracy\n",
    "(1481 + 232) / 2000"
   ]
  },
  {
   "cell_type": "code",
   "execution_count": 40,
   "metadata": {},
   "outputs": [],
   "source": [
    "## It's a WOW...."
   ]
  }
 ],
 "metadata": {
  "kernelspec": {
   "display_name": "Python 3",
   "language": "python",
   "name": "python3"
  },
  "language_info": {
   "codemirror_mode": {
    "name": "ipython",
    "version": 3
   },
   "file_extension": ".py",
   "mimetype": "text/x-python",
   "name": "python",
   "nbconvert_exporter": "python",
   "pygments_lexer": "ipython3",
   "version": "3.6.4"
  }
 },
 "nbformat": 4,
 "nbformat_minor": 2
}
